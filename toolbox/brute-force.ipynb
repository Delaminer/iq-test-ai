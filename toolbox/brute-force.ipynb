{
 "cells": [
  {
   "cell_type": "code",
   "execution_count": 1,
   "metadata": {},
   "outputs": [
    {
     "name": "stdout",
     "output_type": "stream",
     "text": [
      "['constant', 'progression', 'arithmetic', 'distribute_three', 'noise']\n"
     ]
    }
   ],
   "source": [
    "%load_ext autoreload\n",
    "%autoreload 2\n",
    "import numpy as np\n",
    "import matplotlib.pyplot as plt\n",
    "import glob, os, sys, re, math, random\n",
    "import xml.etree.ElementTree as ET\n",
    "from rules import *\n",
    "from predict import *\n",
    "from raven_data import load_question, display_problem\n",
    "from tqdm.notebook import tqdm"
   ]
  },
  {
   "cell_type": "code",
   "execution_count": 1,
   "metadata": {},
   "outputs": [
    {
     "ename": "NameError",
     "evalue": "name 'glob' is not defined",
     "output_type": "error",
     "traceback": [
      "\u001b[0;31m---------------------------------------------------------------------------\u001b[0m",
      "\u001b[0;31mNameError\u001b[0m                                 Traceback (most recent call last)",
      "Cell \u001b[0;32mIn[1], line 4\u001b[0m\n\u001b[1;32m      2\u001b[0m path \u001b[38;5;241m=\u001b[39m \u001b[38;5;124m'\u001b[39m\u001b[38;5;124m../RAVEN/new_data_0\u001b[39m\u001b[38;5;124m'\u001b[39m\n\u001b[1;32m      3\u001b[0m subtype \u001b[38;5;241m=\u001b[39m \u001b[38;5;124m'\u001b[39m\u001b[38;5;124m*\u001b[39m\u001b[38;5;124m'\u001b[39m\n\u001b[0;32m----> 4\u001b[0m items \u001b[38;5;241m=\u001b[39m \u001b[38;5;28msorted\u001b[39m([x\u001b[38;5;241m.\u001b[39msplit(\u001b[38;5;124m'\u001b[39m\u001b[38;5;124m.xml\u001b[39m\u001b[38;5;124m'\u001b[39m)[\u001b[38;5;241m0\u001b[39m] \u001b[38;5;28;01mfor\u001b[39;00m x \u001b[38;5;129;01min\u001b[39;00m \u001b[43mglob\u001b[49m\u001b[38;5;241m.\u001b[39mglob(os\u001b[38;5;241m.\u001b[39mpath\u001b[38;5;241m.\u001b[39mjoin(path, subtype, \u001b[38;5;124m'\u001b[39m\u001b[38;5;124m*.xml\u001b[39m\u001b[38;5;124m'\u001b[39m))])\n\u001b[1;32m      5\u001b[0m \u001b[38;5;66;03m# print(items)\u001b[39;00m\n\u001b[1;32m      6\u001b[0m correct \u001b[38;5;241m=\u001b[39m \u001b[38;5;241m0\u001b[39m\n",
      "\u001b[0;31mNameError\u001b[0m: name 'glob' is not defined"
     ]
    }
   ],
   "source": [
    "# Generalized components v1: 3.5s / 63.6s\n",
    "path = '../RAVEN/new_data_0'\n",
    "subtype = '*'\n",
    "items = sorted([x.split('.xml')[0] for x in glob.glob(os.path.join(path, subtype, '*.xml'))])\n",
    "# print(items)\n",
    "correct = 0\n",
    "debug=False\n",
    "global_counts = [0 for _ in rule_order]\n",
    "if debug:\n",
    "    items=['../RAVEN/new_data_0/center_single/RAVEN_15_train']\n",
    "for index, item in tqdm(enumerate(items), total=len(items)):\n",
    "    embeddings, embedding_names, answer = load_question(item, display=debug, debug=False)\n",
    "    if any(len(embedding) != len(embeddings[0]) for embedding in embeddings):\n",
    "        print(\"Error!\", item, \" has embeddings of different lengths\")\n",
    "        break\n",
    "    guess, counts, _ = predict(embeddings,embedding_names,debug=debug)\n",
    "    global_counts = [global_counts[i] + counts[i] for i in range(5)]\n",
    "    if guess == answer:\n",
    "        correct += 1\n",
    "        if debug:\n",
    "            print(\"Guessed orrect answer\", answer, embeddings[8+answer])\n",
    "    else:\n",
    "        if debug:\n",
    "            grid = [[0, 1, 2], [3, 4, 5], [6, 7, None]]\n",
    "            print(\"\\n\".join([str([embeddings[col] if col is not None else None for col in row ]) for row in grid]))\n",
    "            print(\"Answer\", answer, embeddings[8+answer], \"Guess\", guess, embeddings[8+guess] if guess is not None else None)\n",
    "        print(\"WRONG\",item, \"Wrong guess\", guess, \"Correct answer\", answer)\n",
    "print(\"Names of rules:\", [rule.__name__ for rule in rule_order])\n",
    "print(\"Counts\", global_counts)\n",
    "print(\"Percentages\", [global_counts[i]/sum(global_counts) for i in range(5)])"
   ]
  },
  {
   "cell_type": "code",
   "execution_count": 3,
   "metadata": {},
   "outputs": [
    {
     "ename": "IndexError",
     "evalue": "list index out of range",
     "output_type": "error",
     "traceback": [
      "\u001b[0;31m---------------------------------------------------------------------------\u001b[0m",
      "\u001b[0;31mIndexError\u001b[0m                                Traceback (most recent call last)",
      "Cell \u001b[0;32mIn[3], line 1\u001b[0m\n\u001b[0;32m----> 1\u001b[0m rule \u001b[38;5;241m=\u001b[39m \u001b[43mrule_order\u001b[49m\u001b[43m[\u001b[49m\u001b[38;5;241;43m9\u001b[39;49m\u001b[43m]\u001b[49m\n\u001b[1;32m      2\u001b[0m \u001b[38;5;28mprint\u001b[39m(rule\u001b[38;5;241m.\u001b[39m\u001b[38;5;18m__name__\u001b[39m, rule)\n\u001b[1;32m      3\u001b[0m rule_size \u001b[38;5;241m=\u001b[39m rule(\u001b[38;5;241m3\u001b[39m)\n",
      "\u001b[0;31mIndexError\u001b[0m: list index out of range"
     ]
    }
   ],
   "source": [
    "rule = rule_order[9]\n",
    "print(rule.__name__, rule)\n",
    "rule_size = rule(3)\n",
    "print(rule_size.__name__, rule_size)\n",
    "datapoint = [[[0, 0, 3, 1, 9, 3, 1, 1], [0, 1, 3, 3, 8, 3, 1, 1], [0, 2, 3, 5, 7, 3, 1, 1]],\n",
    "[[1, 0, 1, 1, 5, 0, 1, 1], [1, 1, 1, 3, 4, 0, 1, 1], [1, 2, 1, 5, 3, 0, 1, 1]]]\n",
    "res = rule_size(datapoint)\n",
    "print(res)\n",
    "# res(datapoint)"
   ]
  },
  {
   "cell_type": "code",
   "execution_count": 3,
   "metadata": {},
   "outputs": [
    {
     "name": "stdout",
     "output_type": "stream",
     "text": [
      "Unique values\n",
      "Row [0, 1, 2]\n",
      "Col [0, 1, 2]\n",
      "Type [1, 2, 3, 4, 5]\n",
      "Size [0, 1, 2, 3, 4, 5]\n",
      "Color [0, 1, 2, 3, 4, 5, 6, 7, 8, 9]\n",
      "Angle [0, 1, 2, 3, 4, 5, 6, 7]\n",
      "BWPosition [1, 2, 3, 4, 5, 6, 7, 8, 9, 10, 11, 12, 13, 14, 15, 16, 17, 18, 19, 20, 21, 24, 25, 26, 27, 28, 30, 31, 32, 33, 34, 36, 37, 38, 40, 41, 42, 43, 44, 46, 47, 48, 49, 50, 52, 53, 54, 55, 58, 60, 61, 63, 64, 65, 66, 67, 68, 70, 71, 72, 74, 75, 76, 80, 81, 82, 83, 86, 87, 88, 90, 91, 92, 93, 94, 95, 96, 97, 98, 99, 100, 103, 104, 105, 108, 109, 110, 111, 112, 115, 116, 117, 118, 119, 120, 121, 123, 124, 125, 126, 127, 128, 129, 130, 132, 133, 134, 135, 136, 137, 138, 140, 141, 142, 144, 145, 146, 147, 148, 151, 152, 154, 158, 159, 160, 162, 164, 165, 166, 167, 168, 169, 170, 171, 172, 173, 174, 175, 176, 178, 179, 180, 181, 186, 188, 189, 190, 191, 192, 194, 196, 197, 199, 200, 202, 203, 204, 205, 206, 207, 208, 211, 212, 213, 214, 215, 217, 218, 219, 223, 224, 228, 229, 230, 231, 233, 234, 235, 236, 237, 238, 239, 240, 241, 242, 243, 244, 245, 246, 248, 251, 252, 253, 254, 255, 256, 257, 258, 260, 261, 262, 263, 264, 265, 266, 267, 268, 271, 272, 273, 277, 279, 280, 281, 282, 283, 284, 285, 287, 288, 289, 290, 292, 293, 294, 295, 296, 298, 299, 300, 301, 302, 303, 305, 307, 309, 310, 314, 316, 318, 319, 320, 321, 322, 323, 324, 326, 328, 331, 332, 333, 334, 335, 341, 343, 344, 349, 350, 351, 352, 354, 357, 359, 360, 362, 363, 365, 366, 367, 370, 372, 373, 374, 375, 376, 377, 378, 379, 381, 382, 383, 384, 385, 387, 389, 391, 393, 394, 395, 397, 400, 402, 403, 405, 407, 408, 409, 410, 412, 413, 414, 415, 417, 419, 421, 422, 423, 424, 425, 426, 427, 429, 430, 431, 432, 433, 434, 436, 437, 438, 439, 440, 441, 444, 445, 446, 447, 449, 450, 451, 452, 453, 455, 457, 458, 460, 461, 462, 463, 464, 467, 468, 469, 470, 471, 472, 473, 474, 475, 476, 477, 478, 479, 480, 481, 482, 483, 485, 486, 488, 489, 491, 492, 493, 494, 495, 496, 497, 499, 500, 501, 502, 503, 504, 505, 506, 507, 508, 509, 510, 511]\n",
      "Number [1, 2, 3, 4, 5, 6, 7, 8, 9]\n"
     ]
    }
   ],
   "source": [
    "from collections import defaultdict\n",
    "unique_value_count = defaultdict(lambda: defaultdict(int))\n",
    "# unique_value_count = [defaultdict(int) for _ in range(20)]\n",
    "largest = []\n",
    "for item in items:\n",
    "    embeddings, embedding_names, answer = load_question(item, display=False)\n",
    "    for embedding in embeddings:\n",
    "        for name, value in zip(embedding_names, embedding):\n",
    "            if value is not None:\n",
    "                unique_value_count[name][value] += 1\n",
    "    if len(embedding_names) > len(largest):\n",
    "        largest = embedding_names\n",
    "print(\"Unique values\")\n",
    "for name, values in unique_value_count.items():\n",
    "    print(name, sorted(list(values.keys())))"
   ]
  }
 ],
 "metadata": {
  "kernelspec": {
   "display_name": "Python 3",
   "language": "python",
   "name": "python3"
  },
  "language_info": {
   "codemirror_mode": {
    "name": "ipython",
    "version": 3
   },
   "file_extension": ".py",
   "mimetype": "text/x-python",
   "name": "python",
   "nbconvert_exporter": "python",
   "pygments_lexer": "ipython3",
   "version": "3.11.0"
  }
 },
 "nbformat": 4,
 "nbformat_minor": 2
}
