{
 "cells": [
  {
   "cell_type": "code",
   "execution_count": 10,
   "metadata": {},
   "outputs": [],
   "source": [
    "\n",
    "%load_ext autoreload\n",
    "%autoreload 2\n",
    "import random\n",
    "import numpy as np\n",
    "import itertools\n",
    "from tqdm.notebook import tqdm\n",
    "\n",
    "indices_used = list(itertools.product(itertools.permutations(range(4), 2), itertools.permutations(range(3), 2), itertools.permutations(range(2), 2)))\n",
    "operations_used = list(itertools.product(range(4), repeat=3)) # 4 operations, using 3 at a time\n",
    "operations = [\n",
    "    lambda x, y: x + y,\n",
    "    lambda x, y: x - y,\n",
    "    lambda x, y: x * y,\n",
    "    lambda x, y: x / y,\n",
    "]\n",
    "operation_names = [\"+\", \"-\", \"*\", \"/\"]\n",
    "combos = list(itertools.product(indices_used, operations_used))"
   ]
  },
  {
   "cell_type": "code",
   "execution_count": 2,
   "metadata": {},
   "outputs": [],
   "source": [
    "# filedata = {'MLPCrossEntropyModel': data}\n",
    "import pickle\n",
    "\n",
    "with open('data.pkl', 'rb') as file:\n",
    "    filedata = pickle.load(file)\n",
    "with open('data.pkl', 'wb') as file:\n",
    "    pickle.dump(filedata, file)\n",
    "# filedata"
   ]
  },
  {
   "cell_type": "code",
   "execution_count": null,
   "metadata": {},
   "outputs": [
    {
     "name": "stdout",
     "output_type": "stream",
     "text": [
      "Epoch [1/200], Loss: 0.5526\n",
      "Epoch [40/200], Loss: 0.5352\n",
      "Epoch [80/200], Loss: 0.5350\n",
      "Epoch [120/200], Loss: 0.5350\n",
      "Epoch [160/200], Loss: 0.5350\n",
      "Epoch [200/200], Loss: 0.5351\n"
     ]
    },
    {
     "data": {
      "text/plain": [
       "NNVariableWidth(\n",
       "  (fcs): ModuleList(\n",
       "    (0): Linear(in_features=4, out_features=256, bias=True)\n",
       "    (1-2): 2 x Linear(in_features=256, out_features=256, bias=True)\n",
       "    (3): Linear(in_features=256, out_features=12, bias=True)\n",
       "  )\n",
       ")"
      ]
     },
     "execution_count": 26,
     "metadata": {},
     "output_type": "execute_result"
    }
   ],
   "source": [
    "from dataset import get_dataset, augment_data\n",
    "from model import *\n",
    "from sklearn.model_selection import train_test_split\n",
    "_, solutions = get_dataset()\n",
    "model = NNVariableWidth(hidden_dims=(256,256,256))\n",
    "X, y = model.split_data(solutions)\n",
    "X_train, X_test, y_train, y_test = train_test_split(X, y, test_size=0.2, random_state=42)\n",
    "X_train, y_train = augment_data(X_train, y_train, 4)\n",
    "model.fit(X_train, y_train, num_epochs=200, tqdm=tqdm)"
   ]
  },
  {
   "cell_type": "code",
   "execution_count": 27,
   "metadata": {},
   "outputs": [
    {
     "data": {
      "text/plain": [
       "(0.17763504321838056, 0.1774898843167528)"
      ]
     },
     "execution_count": 27,
     "metadata": {},
     "output_type": "execute_result"
    }
   ],
   "source": [
    "# get accuracy on test\n",
    "from sklearn.metrics import mean_squared_error\n",
    "y_pred = model.predict(X_test)\n",
    "mse_train = mean_squared_error(y_train, model.predict(X_train))\n",
    "mse_test = mean_squared_error(y_test, y_pred)\n",
    "mse_train, mse_test"
   ]
  },
  {
   "cell_type": "code",
   "execution_count": 24,
   "metadata": {},
   "outputs": [
    {
     "data": {
      "text/plain": [
       "(array([ 8., 12.,  8.,  9.]),\n",
       " array([0., 0., 1., 0., 0., 0., 1., 0., 0., 1., 0., 0.]),\n",
       " array([0.24746068, 0.35930985, 0.17926303, 0.20532433, 0.27297578,\n",
       "        0.22373547, 0.36641221, 0.13160391, 0.34080383, 0.27563122,\n",
       "        0.19167127, 0.17125418]))"
      ]
     },
     "execution_count": 24,
     "metadata": {},
     "output_type": "execute_result"
    }
   ],
   "source": [
    "X_train[0], y_train[0], model.predict(X_train[0])"
   ]
  },
  {
   "cell_type": "code",
   "execution_count": 28,
   "metadata": {},
   "outputs": [
    {
     "name": "stdout",
     "output_type": "stream",
     "text": [
      "train\n"
     ]
    },
    {
     "data": {
      "application/vnd.jupyter.widget-view+json": {
       "model_id": "a5e4bffbde39461a8ea69690333b4187",
       "version_major": 2,
       "version_minor": 0
      },
      "text/plain": [
       "  0%|          | 0/3372 [00:00<?, ?it/s]"
      ]
     },
     "metadata": {},
     "output_type": "display_data"
    },
    {
     "name": "stdout",
     "output_type": "stream",
     "text": [
      "train Average count 371.5717674970344\n",
      "test\n"
     ]
    },
    {
     "data": {
      "application/vnd.jupyter.widget-view+json": {
       "model_id": "f699c5c0f2a1453abb3ae3f31aa6b5cd",
       "version_major": 2,
       "version_minor": 0
      },
      "text/plain": [
       "  0%|          | 0/211 [00:00<?, ?it/s]"
      ]
     },
     "metadata": {},
     "output_type": "display_data"
    },
    {
     "name": "stdout",
     "output_type": "stream",
     "text": [
      "test Average count 457.8009478672986\n"
     ]
    }
   ],
   "source": [
    "from tqdm.notebook import tqdm\n",
    "import random\n",
    "import numpy as np\n",
    "use_random_weights = True\n",
    "debug = False\n",
    "use_random_list = False\n",
    "min_probability = 0.2\n",
    "def solve_with_model(x):\n",
    "    # pair up two numbers 1-4, then 1-3, then 1-2.\n",
    "    # For each pair, we can add, subtract, multiply or divide.\n",
    "\n",
    "    target = 24\n",
    "    choices = list(x)\n",
    "    # shuffle it\n",
    "    if use_random_weights:\n",
    "        random.shuffle(choices)\n",
    "\n",
    "    i = 0\n",
    "    y = model.predict(x)\n",
    "    # convert to 3x4\n",
    "    if len(y) == 12:\n",
    "        y = np.reshape(y, (3, 4))\n",
    "    # y = model(torch.tensor(np.reshape(x, (1, -1)))).detach().numpy()[0]\n",
    "    # y = model.predict_operation_probabilities(np.reshape(x, (1, -1)))[0]\n",
    "    # if not separate_operation_indices:\n",
    "    #     # separate them anyway\n",
    "    #     y = np.tile(y, (3, 1))\n",
    "    # apply a min probability on each operation\n",
    "    y = np.maximum(y, min_probability)\n",
    "    y = y / np.sum(y, axis=1)[:, np.newaxis]\n",
    "    if debug:\n",
    "        print(x, y)\n",
    "    if use_random_list:\n",
    "        random_index_combinations = list(itertools.product(itertools.permutations(range(4), 2), itertools.permutations(range(3), 2), itertools.permutations(range(2), 2)))\n",
    "        random.shuffle(random_index_combinations)\n",
    "        # sort the operations by probability\n",
    "        sorted_operation_combinations = list(itertools.product(*(y.shape[1] - 1 - np.argsort(y))))\n",
    "    while True:\n",
    "        if use_random_list:\n",
    "            index_first = True\n",
    "            index_i = i % len(random_index_combinations) if index_first else i // len(sorted_operation_combinations)\n",
    "            operation_i = i // len(random_index_combinations) if index_first else i % len(sorted_operation_combinations)\n",
    "        index_order = random_index_combinations[index_i] if use_random_list else random.choice(indices_used)\n",
    "        operation_order = sorted_operation_combinations[operation_i] if use_random_list else [random.choices(range(4), weights=y[op_index], k=1)[0] for op_index in range(3)]\n",
    "        i += 1\n",
    "        numbers = choices.copy()\n",
    "        valid = True\n",
    "        for (index1, index2), operation_index in zip(index_order, operation_order):\n",
    "            val1 = numbers[index1]\n",
    "            val2 = numbers[index2]\n",
    "            numbers.pop(max(index1, index2))\n",
    "            numbers.pop(min(index1, index2))\n",
    "            if operation_index == 3 and val2 == 0:\n",
    "                valid = False\n",
    "                break\n",
    "            numbers.append(operations[operation_index](val1, val2))\n",
    "        if valid and numbers[0] == target:\n",
    "            return True, index_order, operation_order, i\n",
    "    return False, None, None, -1\n",
    "def print_solution(numbers, index_order, operation_order, answer):\n",
    "    terms = [str(x) for x in numbers]\n",
    "    for (index1, index2), operation_index in zip(index_order, operation_order):\n",
    "        term1 = terms[index1]\n",
    "        term2 = terms[index2]\n",
    "        terms.pop(max(index1, index2))\n",
    "        terms.pop(min(index1, index2))\n",
    "        new_term = f\"({term1} {operation_names[operation_index]} {term2})\"\n",
    "        terms.append(new_term)\n",
    "    print(\" \".join(terms), \"=\", answer)\n",
    "data = {}\n",
    "for name, X_split, y_split in [(\"train\", X_train, y_train), (\"test\", X_test, y_test)]:\n",
    "    # if name == \"train\":\n",
    "    #     continue\n",
    "    print(name)\n",
    "    counts = []\n",
    "    for i in tqdm(range(len(X_split))):\n",
    "        valid, index_order, operation_order, count = solve_with_model(X_split[i])\n",
    "        if not valid:\n",
    "            print(\"Failed to solve\", X_split[i])\n",
    "            break\n",
    "        else:\n",
    "            counts.append(count)\n",
    "            if debug:\n",
    "                print(\"input\", X_split[i], \"indices\", index_order, \"operations\", operation_order, \"count\", i)\n",
    "                print_solution(X_split[i], index_order, operation_order, 24)\n",
    "                print()\n",
    "                if i > 10:\n",
    "                    break\n",
    "    data[name] = counts\n",
    "    print(name, \"Average count\", sum(counts) / len(counts)) # Train/Test 841.2078 / 766.814"
   ]
  },
  {
   "cell_type": "code",
   "execution_count": 11,
   "metadata": {},
   "outputs": [
    {
     "name": "stdout",
     "output_type": "stream",
     "text": [
      "Split train had average count 366.37366548042706\n",
      "Split test had average count 408.98578199052133\n"
     ]
    },
    {
     "data": {
      "image/png": "[encoded data removed]",
      "text/plain": [
       "<Figure size 640x480 with 1 Axes>"
      ]
     },
     "metadata": {},
     "output_type": "display_data"
    },
    {
     "data": {
      "image/png": "[encoded data removed]",
      "text/plain": [
       "<Figure size 640x480 with 1 Axes>"
      ]
     },
     "metadata": {},
     "output_type": "display_data"
    },
    {
     "data": {
      "image/png": "[encoded data removed]",
      "text/plain": [
       "<Figure size 640x480 with 1 Axes>"
      ]
     },
     "metadata": {},
     "output_type": "display_data"
    },
    {
     "data": {
      "image/png": "[encoded data removed]",
      "text/plain": [
       "<Figure size 640x480 with 1 Axes>"
      ]
     },
     "metadata": {},
     "output_type": "display_data"
    }
   ],
   "source": [
    "import matplotlib.pyplot as plt\n",
    "\n",
    "\n",
    "for split in data.keys():\n",
    "    print(\"Split\", split, \"had average count\", sum(data[split]) / len(data[split]))\n",
    "for split in data.keys():\n",
    "    # Create the histogram\n",
    "    plt.hist(data[split])\n",
    "    plt.xlabel('Value')\n",
    "    plt.ylabel('Frequency')\n",
    "    plt.title('Histogram for ' + split)\n",
    "    plt.show()\n",
    "for split in data.keys():\n",
    "    # Display the histogram\n",
    "    plt.boxplot(data[split],vert=False)\n",
    "    plt.xlabel('Values')\n",
    "    plt.title('Box-and-Whisker Plot for ' + split)\n",
    "    plt.show()"
   ]
  },
  {
   "cell_type": "code",
   "execution_count": 36,
   "metadata": {},
   "outputs": [
    {
     "name": "stdout",
     "output_type": "stream",
     "text": [
      "(1054, 4) (1000, 4)\n",
      "(1054, 4) (1000, 4)\n",
      "Epoch [1/100], Loss: 0.6434\n",
      "Epoch [2/100], Loss: 0.6179\n",
      "Epoch [3/100], Loss: 0.6094\n",
      "Epoch [4/100], Loss: 0.6073\n",
      "Epoch [5/100], Loss: 0.6026\n",
      "Epoch [6/100], Loss: 0.6033\n",
      "Epoch [7/100], Loss: 0.6019\n",
      "Epoch [8/100], Loss: 0.6000\n",
      "Epoch [9/100], Loss: 0.5982\n",
      "Epoch [10/100], Loss: 0.5965\n",
      "Epoch [11/100], Loss: 0.5962\n",
      "Epoch [12/100], Loss: 0.5956\n",
      "Epoch [13/100], Loss: 0.5938\n",
      "Epoch [14/100], Loss: 0.5940\n",
      "Epoch [15/100], Loss: 0.5927\n",
      "Epoch [16/100], Loss: 0.5951\n",
      "Epoch [17/100], Loss: 0.5930\n",
      "Epoch [18/100], Loss: 0.5923\n",
      "Epoch [19/100], Loss: 0.5911\n",
      "Epoch [20/100], Loss: 0.5909\n",
      "Epoch [21/100], Loss: 0.5917\n",
      "Epoch [22/100], Loss: 0.5913\n",
      "Epoch [23/100], Loss: 0.5909\n",
      "Epoch [24/100], Loss: 0.5898\n",
      "Epoch [25/100], Loss: 0.5891\n",
      "Epoch [26/100], Loss: 0.5898\n",
      "Epoch [27/100], Loss: 0.5902\n",
      "Epoch [28/100], Loss: 0.5902\n",
      "Epoch [29/100], Loss: 0.5894\n",
      "Epoch [30/100], Loss: 0.5888\n",
      "Epoch [31/100], Loss: 0.5901\n",
      "Epoch [32/100], Loss: 0.5916\n",
      "Epoch [33/100], Loss: 0.5892\n",
      "Epoch [34/100], Loss: 0.5893\n",
      "Epoch [35/100], Loss: 0.5872\n",
      "Epoch [36/100], Loss: 0.5891\n",
      "Epoch [37/100], Loss: 0.5907\n",
      "Epoch [38/100], Loss: 0.5887\n",
      "Epoch [39/100], Loss: 0.5889\n",
      "Epoch [40/100], Loss: 0.5873\n",
      "Epoch [41/100], Loss: 0.5876\n",
      "Epoch [42/100], Loss: 0.5870\n",
      "Epoch [43/100], Loss: 0.5880\n",
      "Epoch [44/100], Loss: 0.5876\n",
      "Epoch [45/100], Loss: 0.5886\n",
      "Epoch [46/100], Loss: 0.5879\n",
      "Epoch [47/100], Loss: 0.5864\n",
      "Epoch [48/100], Loss: 0.5866\n",
      "Epoch [49/100], Loss: 0.5859\n",
      "Epoch [50/100], Loss: 0.5873\n",
      "Epoch [51/100], Loss: 0.5854\n",
      "Epoch [52/100], Loss: 0.5870\n",
      "Epoch [53/100], Loss: 0.5853\n",
      "Epoch [54/100], Loss: 0.5861\n",
      "Epoch [55/100], Loss: 0.5872\n",
      "Epoch [56/100], Loss: 0.5859\n",
      "Epoch [57/100], Loss: 0.5858\n",
      "Epoch [58/100], Loss: 0.5875\n",
      "Epoch [59/100], Loss: 0.5843\n",
      "Epoch [60/100], Loss: 0.5868\n",
      "Epoch [61/100], Loss: 0.5854\n",
      "Epoch [62/100], Loss: 0.5859\n",
      "Epoch [63/100], Loss: 0.5852\n",
      "Epoch [64/100], Loss: 0.5867\n",
      "Epoch [65/100], Loss: 0.5853\n",
      "Epoch [66/100], Loss: 0.5844\n",
      "Epoch [67/100], Loss: 0.5848\n",
      "Epoch [68/100], Loss: 0.5825\n",
      "Epoch [69/100], Loss: 0.5853\n",
      "Epoch [70/100], Loss: 0.5866\n",
      "Epoch [71/100], Loss: 0.5848\n",
      "Epoch [72/100], Loss: 0.5869\n",
      "Epoch [73/100], Loss: 0.5848\n",
      "Epoch [74/100], Loss: 0.5851\n",
      "Epoch [75/100], Loss: 0.5845\n",
      "Epoch [76/100], Loss: 0.5835\n",
      "Epoch [77/100], Loss: 0.5851\n",
      "Epoch [78/100], Loss: 0.5840\n",
      "Epoch [79/100], Loss: 0.5853\n",
      "Epoch [80/100], Loss: 0.5856\n",
      "Epoch [81/100], Loss: 0.5829\n",
      "Epoch [82/100], Loss: 0.5842\n",
      "Epoch [83/100], Loss: 0.5831\n",
      "Epoch [84/100], Loss: 0.5853\n",
      "Epoch [85/100], Loss: 0.5855\n",
      "Epoch [86/100], Loss: 0.5840\n",
      "Epoch [87/100], Loss: 0.5858\n",
      "Epoch [88/100], Loss: 0.5847\n",
      "Epoch [89/100], Loss: 0.5835\n",
      "Epoch [90/100], Loss: 0.5828\n",
      "Epoch [91/100], Loss: 0.5830\n",
      "Epoch [92/100], Loss: 0.5863\n",
      "Epoch [93/100], Loss: 0.5836\n",
      "Epoch [94/100], Loss: 0.5834\n",
      "Epoch [95/100], Loss: 0.5848\n",
      "Epoch [96/100], Loss: 0.5838\n",
      "Epoch [97/100], Loss: 0.5835\n",
      "Epoch [98/100], Loss: 0.5838\n",
      "Epoch [99/100], Loss: 0.5834\n",
      "Epoch [100/100], Loss: 0.5843\n",
      "Training complete!\n"
     ]
    },
    {
     "data": {
      "text/plain": [
       "SimpleMLP(\n",
       "  (fc1): Linear(in_features=4, out_features=16, bias=True)\n",
       "  (fc2): Linear(in_features=16, out_features=4, bias=True)\n",
       ")"
      ]
     },
     "execution_count": 36,
     "metadata": {},
     "output_type": "execute_result"
    }
   ],
   "source": [
    "import torch\n",
    "import torch.nn as nn\n",
    "import torch.optim as optim\n",
    "import torch.nn.functional as F\n",
    "from torch.utils.data import DataLoader, TensorDataset\n",
    "import numpy as np\n",
    "# Define the MLP model\n",
    "class SimpleMLP(nn.Module):\n",
    "    def __init__(self, input_dim, hidden_dim, output_dim):\n",
    "        super(SimpleMLP, self).__init__()\n",
    "        self.fc1 = nn.Linear(input_dim, hidden_dim)\n",
    "        self.fc2 = nn.Linear(hidden_dim, output_dim)\n",
    "    def forward(self, x):\n",
    "        x = F.relu(self.fc1(x))\n",
    "        x = torch.sigmoid(self.fc2(x))  # Outputs should be between 0 and 1\n",
    "        return x\n",
    "# Set the random seed for reproducibility\n",
    "torch.manual_seed(42)\n",
    "# Define the parameters\n",
    "input_dim = 4\n",
    "hidden_dim = 16\n",
    "output_dim = 4\n",
    "learning_rate = 0.01\n",
    "num_epochs = 100\n",
    "batch_size = 16\n",
    "# Generate some dummy data for training\n",
    "num_samples = 1000\n",
    "Xfake = np.random.rand(num_samples, input_dim).astype(np.float32)  # Random input data\n",
    "yfake = np.random.randint(0, 2, (num_samples, output_dim)).astype(np.float32)  # Random binary targets\n",
    "print(X.shape, Xfake.shape)\n",
    "print(y.shape, yfake.shape)\n",
    "# Convert data to PyTorch tensors\n",
    "X_tensor = torch.tensor(X)\n",
    "y_tensor = torch.tensor(y)\n",
    "# Create DataLoader for batching\n",
    "dataset = TensorDataset(X_tensor, y_tensor)\n",
    "dataloader = DataLoader(dataset, batch_size=batch_size, shuffle=True)\n",
    "# Initialize the model, loss function, and optimizer\n",
    "model = SimpleMLP(input_dim, hidden_dim, output_dim).double()\n",
    "criterion = nn.BCELoss()  # Binary Cross-Entropy Loss for multi-attribute classification\n",
    "optimizer = optim.Adam(model.parameters(), lr=learning_rate)\n",
    "# Training loop\n",
    "for epoch in range(num_epochs):\n",
    "    model.train()\n",
    "    total_loss = 0.0\n",
    "    for batch_idx, (inputs, targets) in enumerate(dataloader):\n",
    "        # Zero the parameter gradients\n",
    "        optimizer.zero_grad()\n",
    "        # Forward pass\n",
    "        # inputs = inputs.float()\n",
    "        outputs = model(inputs)\n",
    "        # Compute loss\n",
    "        loss = criterion(outputs, targets)\n",
    "        # Backward pass and optimization\n",
    "        loss.backward()\n",
    "        optimizer.step()\n",
    "        total_loss += loss.item()\n",
    "    # Print the average loss for this epoch\n",
    "    avg_loss = total_loss / len(dataloader)\n",
    "    print(f\"Epoch [{epoch+1}/{num_epochs}], Loss: {avg_loss:.4f}\")\n",
    "print(\"Training complete!\")\n",
    "# Test the model on a new sample\n",
    "model.eval()"
   ]
  },
  {
   "cell_type": "code",
   "execution_count": 46,
   "metadata": {},
   "outputs": [
    {
     "name": "stdout",
     "output_type": "stream",
     "text": [
      "Test Input: tensor([[ 1.,  8.,  8., 11.],\n",
      "        [ 8.,  8., 11., 12.],\n",
      "        [ 4.,  9.,  9., 12.]], dtype=torch.float64)\n",
      "Prediction: tensor([[0.6262, 0.6910, 0.7548, 0.3422],\n",
      "        [0.6217, 0.7382, 0.6923, 0.4157],\n",
      "        [0.6249, 0.7065, 0.7345, 0.3649]], dtype=torch.float64,\n",
      "       grad_fn=<SigmoidBackward0>)\n",
      "Ground truth label: [[0. 1. 1. 1.]\n",
      " [1. 0. 0. 1.]\n",
      " [0. 1. 1. 0.]]\n",
      "1.5\n",
      "0.1968860415617535\n"
     ]
    }
   ],
   "source": [
    "test_input = torch.tensor(X_test[0:3])\n",
    "prediction = model(test_input)\n",
    "print(\"Test Input:\", test_input)\n",
    "print(\"Prediction:\", prediction)\n",
    "print(\"Ground truth label:\", y_test[0:3])\n",
    "y_pred = model(torch.tensor(X_test)).detach().numpy()\n",
    "accuracy = (np.argmax(y_pred, axis=1) == np.argmax(y_test, axis=1)).sum().item() / (3 * 4)\n",
    "mse = mean_squared_error(y_test, y_pred)\n",
    "print(accuracy)\n",
    "print(mse)"
   ]
  },
  {
   "cell_type": "code",
   "execution_count": 46,
   "metadata": {},
   "outputs": [
    {
     "name": "stdout",
     "output_type": "stream",
     "text": [
      "train Average count 4637.125248508946\n",
      "4527\n",
      "[23. 23. 23. 23.]\n",
      "[[[5.94274986e-01 2.97923060e-01 2.87411210e-08 1.07801925e-01]\n",
      "  [5.94274986e-01 2.97923060e-01 2.87411210e-08 1.07801925e-01]\n",
      "  [5.94274986e-01 2.97923060e-01 2.87411210e-08 1.07801925e-01]]]\n",
      "[[23, 23, 23, 23], 24, ((0, 2), (2, 0), (1, 0)), (2, 0, 3)]\n"
     ]
    }
   ],
   "source": [
    "print(name, \"Average count\", avg_count / n_entries) # Train/Test 841.2078 / 766.814\n",
    "i=4527\n",
    "print(i)\n",
    "print(X_train[i])\n",
    "print(model.predict_proba([X_train[i]]))\n",
    "print(solutions[-5])"
   ]
  },
  {
   "cell_type": "code",
   "execution_count": null,
   "metadata": {},
   "outputs": [],
   "source": [
    "label_is_3d = True\n",
    "print(solutions[0])\n",
    "X = np.zeros((len(solutions), 5))\n",
    "# 3 indices, 3 operations\n",
    "y = np.zeros((len(solutions), 6, 4)) if label_is_3d else np.zeros((len(solutions), 3*4)) # predict the 3 operations using one hot encoding\n",
    "for i, sol in enumerate(solutions):\n",
    "    X[i] = sol[0] + [sol[1]] # input + target\n",
    "    # y[i] = sol[3] # regression output\n",
    "    # one hot encoding\n",
    "    for rule_index in range(3):\n",
    "        if label_is_3d:\n",
    "            y[i, rule_index, sol[3][rule_index]] = 1\n",
    "        else:\n",
    "            y[i, rule_index*4 + sol[3][rule_index]] = 1\n",
    "print(X.shape, X)\n",
    "print(y.shape, y)"
   ]
  }
 ],
 "metadata": {
  "kernelspec": {
   "display_name": "Python 3",
   "language": "python",
   "name": "python3"
  },
  "language_info": {
   "codemirror_mode": {
    "name": "ipython",
    "version": 3
   },
   "file_extension": ".py",
   "mimetype": "text/x-python",
   "name": "python",
   "nbconvert_exporter": "python",
   "pygments_lexer": "ipython3",
   "version": "3.11.0rc1"
  }
 },
 "nbformat": 4,
 "nbformat_minor": 2
}
