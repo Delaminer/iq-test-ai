{
 "cells": [
  {
   "cell_type": "code",
   "execution_count": 7,
   "metadata": {},
   "outputs": [
    {
     "name": "stdout",
     "output_type": "stream",
     "text": [
      "The autoreload extension is already loaded. To reload it, use:\n",
      "  %reload_ext autoreload\n"
     ]
    }
   ],
   "source": [
    "%load_ext autoreload\n",
    "%autoreload 2\n",
    "import numpy as np\n",
    "import matplotlib.pyplot as plt\n",
    "import glob, os, sys, re, math, random\n",
    "import xml.etree.ElementTree as ET\n",
    "from rules import *\n",
    "from predict import *\n",
    "from raven_data import load_question, display_problem\n",
    "from tqdm.notebook import tqdm\n",
    "from sklearn.ensemble import RandomForestClassifier\n",
    "from sklearn.multioutput import MultiOutputClassifier\n",
    "from sklearn.metrics import classification_report"
   ]
  },
  {
   "cell_type": "code",
   "execution_count": 8,
   "metadata": {},
   "outputs": [
    {
     "data": {
      "application/vnd.jupyter.widget-view+json": {
       "model_id": "8794ad192fcf4e6a9a49a9f93d54089d",
       "version_major": 2,
       "version_minor": 0
      },
      "text/plain": [
       "  0%|          | 0/700 [00:00<?, ?it/s]"
      ]
     },
     "metadata": {},
     "output_type": "display_data"
    },
    {
     "name": "stdout",
     "output_type": "stream",
     "text": [
      "Using 700 datapoints\n"
     ]
    }
   ],
   "source": [
    "path = '../RAVEN/new_data_0'\n",
    "subtype = '*'\n",
    "items = sorted([x.split('.xml')[0] for x in glob.glob(os.path.join(path, subtype, '*.xml'))])\n",
    "debug=False\n",
    "raw_X = []\n",
    "raw_y = []\n",
    "raw_partition = []\n",
    "if debug:\n",
    "    items=['../RAVEN/new_data_1/distribute_four/RAVEN_620_train']\n",
    "for index, item in tqdm(enumerate(items), total=len(items)):\n",
    "    embeddings, embedding_names, answer = load_question(item, display=debug, debug=False)\n",
    "    if any(len(embedding) != len(embeddings[0]) for embedding in embeddings):\n",
    "        print(\"Error!\", item, \" has embeddings of different lengths\")\n",
    "        break\n",
    "    guess, _, y_entry = predict(embeddings,embedding_names,debug=debug)\n",
    "    x = np.array(embeddings[:8])\n",
    "    if guess == answer:\n",
    "        raw_X.append(x)\n",
    "        raw_y.append(y_entry)\n",
    "        raw_partition.append([partition_type in item for partition_type in ['train', 'val', 'test']])\n",
    "    else:\n",
    "        if debug:\n",
    "            grid = [[0, 1, 2], [3, 4, 5], [6, 7, None]]\n",
    "            print(\"\\n\".join([str([embeddings[col] if col is not None else None for col in row ]) for row in grid]))\n",
    "            print(\"Answer\", answer, embeddings[8+answer], \"Guess\", guess, embeddings[8+guess] if guess is not None else None)\n",
    "        print(\"WRONG\",item, \"Wrong guess\", guess, \"Correct answer\", answer)\n",
    "print(\"Using\", len(raw_X), \"datapoints\")"
   ]
  },
  {
   "cell_type": "code",
   "execution_count": 9,
   "metadata": {},
   "outputs": [
    {
     "data": {
      "text/plain": [
       "((700, 112), (700, 5))"
      ]
     },
     "execution_count": 9,
     "metadata": {},
     "output_type": "execute_result"
    }
   ],
   "source": [
    "max_length = max([x.shape[1] for x in raw_X])\n",
    "def pad(x):\n",
    "    return np.pad(x, ((0,0), (0, max_length - x.shape[1])), mode='constant').flatten()\n",
    "X = np.array([pad(x) for x in raw_X])\n",
    "y = np.array(raw_y)\n",
    "partition = np.array(raw_partition)\n",
    "X.shape,y.shape"
   ]
  },
  {
   "cell_type": "code",
   "execution_count": 10,
   "metadata": {},
   "outputs": [
    {
     "data": {
      "text/plain": [
       "((420, 112), (140, 112), (140, 112), (420, 5), (140, 5), (140, 5))"
      ]
     },
     "execution_count": 10,
     "metadata": {},
     "output_type": "execute_result"
    }
   ],
   "source": [
    "# Split data across train/val/test partitions\n",
    "X_train, X_val, X_test = X[partition[:, 0]], X[partition[:, 1]], X[partition[:, 2]]\n",
    "y_train, y_val, y_test = y[partition[:, 0]], y[partition[:, 1]], y[partition[:, 2]]\n",
    "X_train.shape, X_val.shape, X_test.shape, y_train.shape, y_val.shape, y_test.shape"
   ]
  },
  {
   "cell_type": "code",
   "execution_count": 13,
   "metadata": {},
   "outputs": [
    {
     "name": "stdout",
     "output_type": "stream",
     "text": [
      "              precision    recall  f1-score   support\n",
      "\n",
      "           0       0.93      0.92      0.92       119\n",
      "           1       0.64      0.91      0.75        88\n",
      "           2       0.63      0.49      0.55        65\n",
      "           3       0.73      0.89      0.80        94\n",
      "           4       0.77      0.83      0.80        41\n",
      "\n",
      "   micro avg       0.75      0.83      0.79       407\n",
      "   macro avg       0.74      0.81      0.77       407\n",
      "weighted avg       0.76      0.83      0.79       407\n",
      " samples avg       0.75      0.82      0.76       407\n",
      "\n"
     ]
    },
    {
     "name": "stderr",
     "output_type": "stream",
     "text": [
      "/home/alex/.local/lib/python3.11/site-packages/sklearn/metrics/_classification.py:1531: UndefinedMetricWarning: Recall is ill-defined and being set to 0.0 in samples with no true labels. Use `zero_division` parameter to control this behavior.\n",
      "  _warn_prf(average, modifier, f\"{metric.capitalize()} is\", len(result))\n"
     ]
    }
   ],
   "source": [
    "base_model = RandomForestClassifier()\n",
    "model = MultiOutputClassifier(base_model)\n",
    "model.fit(X_train, y_train)\n",
    "\n",
    "y_pred = model.predict(X_test)\n",
    "\n",
    "print(classification_report(y_test, y_pred))"
   ]
  },
  {
   "cell_type": "code",
   "execution_count": 19,
   "metadata": {},
   "outputs": [
    {
     "name": "stdout",
     "output_type": "stream",
     "text": [
      "{'constant': 0.13, 'progression': 0.87, 'arithmetic': 0.83, 'distribute_three': 0.11, 'noise': 0.85}\n",
      "[0, 1, 1, 0, 1]\n",
      "Final score: 1 out of 1\n"
     ]
    }
   ],
   "source": [
    "# Use model predictions\n",
    "\n",
    "path = '../RAVEN/new_data_0'\n",
    "subtype = '*'\n",
    "items = sorted([x.split('.xml')[0] for x in glob.glob(os.path.join(path, subtype, '*.xml'))])\n",
    "correct = 0\n",
    "debug=True\n",
    "if debug:\n",
    "    items=['../RAVEN/new_data_0/distribute_four/RAVEN_62_train']\n",
    "for item in items:\n",
    "    embeddings, embedding_names, answer = load_question(item, display=False, debug=False)\n",
    "    if any(len(embedding) != len(embeddings[0]) for embedding in embeddings):\n",
    "        print(\"Error!\", item, \" has embeddings of different lengths\")\n",
    "        break\n",
    "    x = pad(np.array(embeddings[:8])).reshape(1, -1)\n",
    "    y_pred = model.predict(x)\n",
    "    y_prob = model.predict_proba(x)\n",
    "    y_prob_formatted = [y_prob_i[0][1] for y_prob_i in y_prob]\n",
    "    print({rule.__name__: prob for rule, prob in zip(rule_order, y_prob_formatted)})\n",
    "    guess, _, y_entry = predict(embeddings,embedding_names,debug=False,prob=y_prob_formatted)\n",
    "    print(y_entry)\n",
    "    if guess == answer:\n",
    "        correct += 1\n",
    "    else:\n",
    "        if debug:\n",
    "            grid = [[0, 1, 2], [3, 4, 5], [6, 7, None]]\n",
    "            print(\"\\n\".join([str([embeddings[col] if col is not None else None for col in row ]) for row in grid]))\n",
    "            print(\"Answer\", answer, embeddings[8+answer], \"Guess\", guess, embeddings[8+guess] if guess is not None else None)\n",
    "        print(\"WRONG\",item, \"Wrong guess\", guess, \"Correct answer\", answer)\n",
    "print(\"Final score:\", correct, \"out of\", len(items))"
   ]
  }
 ],
 "metadata": {
  "kernelspec": {
   "display_name": "Python 3",
   "language": "python",
   "name": "python3"
  },
  "language_info": {
   "codemirror_mode": {
    "name": "ipython",
    "version": 3
   },
   "file_extension": ".py",
   "mimetype": "text/x-python",
   "name": "python",
   "nbconvert_exporter": "python",
   "pygments_lexer": "ipython3",
   "version": "3.11.0rc1"
  }
 },
 "nbformat": 4,
 "nbformat_minor": 2
}
