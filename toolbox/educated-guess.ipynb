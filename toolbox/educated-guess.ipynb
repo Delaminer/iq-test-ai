{
 "cells": [
  {
   "cell_type": "code",
   "execution_count": 7,
   "metadata": {},
   "outputs": [
    {
     "name": "stdout",
     "output_type": "stream",
     "text": [
      "The autoreload extension is already loaded. To reload it, use:\n",
      "  %reload_ext autoreload\n"
     ]
    }
   ],
   "source": [
    "%load_ext autoreload\n",
    "%autoreload 2\n",
    "import numpy as np\n",
    "import matplotlib.pyplot as plt\n",
    "import glob, os, sys, re, math, random\n",
    "import xml.etree.ElementTree as ET\n",
    "from rules import *\n",
    "from predict import *\n",
    "from raven_data import load_question, display_problem\n",
    "from tqdm.notebook import tqdm\n",
    "from sklearn.ensemble import RandomForestRegressor\n",
    "from sklearn.multioutput import MultiOutputRegressor\n",
    "from sklearn.metrics import classification_report"
   ]
  },
  {
   "cell_type": "code",
   "execution_count": 2,
   "metadata": {},
   "outputs": [
    {
     "data": {
      "application/vnd.jupyter.widget-view+json": {
       "model_id": "2e676286613b4546bca75b9318a9496d",
       "version_major": 2,
       "version_minor": 0
      },
      "text/plain": [
       "  0%|          | 0/700 [00:00<?, ?it/s]"
      ]
     },
     "metadata": {},
     "output_type": "display_data"
    },
    {
     "name": "stdout",
     "output_type": "stream",
     "text": [
      "Using 700 datapoints\n"
     ]
    }
   ],
   "source": [
    "path = '../RAVEN/new_data_0'\n",
    "subtype = '*'\n",
    "items = sorted([x.split('.xml')[0] for x in glob.glob(os.path.join(path, subtype, '*.xml'))])\n",
    "debug=False\n",
    "raw_X = []\n",
    "raw_y = []\n",
    "raw_partition = []\n",
    "if debug:\n",
    "    items=['../RAVEN/new_data_0/distribute_four/RAVEN_62_train']\n",
    "for index, item in tqdm(enumerate(items), total=len(items)):\n",
    "    embeddings, embedding_names, answer = load_question(item, display=debug, debug=False)\n",
    "    if any(len(embedding) != len(embeddings[0]) for embedding in embeddings):\n",
    "        print(\"Error!\", item, \" has embeddings of different lengths\")\n",
    "        break\n",
    "    guess, _, y_entry = predict(embeddings,embedding_names,debug=debug)\n",
    "    x = np.array(embeddings[:8])\n",
    "    if guess == answer:\n",
    "        raw_X.append(x)\n",
    "        raw_y.append(y_entry)\n",
    "        raw_partition.append([partition_type in item for partition_type in ['train', 'val', 'test']])\n",
    "    else:\n",
    "        if debug:\n",
    "            grid = [[0, 1, 2], [3, 4, 5], [6, 7, None]]\n",
    "            print(\"\\n\".join([str([embeddings[col] if col is not None else None for col in row ]) for row in grid]))\n",
    "            print(\"Answer\", answer, embeddings[8+answer], \"Guess\", guess, embeddings[8+guess] if guess is not None else None)\n",
    "        print(\"WRONG\",item, \"Wrong guess\", guess, \"Correct answer\", answer)\n",
    "print(\"Using\", len(raw_X), \"datapoints\")"
   ]
  },
  {
   "cell_type": "code",
   "execution_count": 3,
   "metadata": {},
   "outputs": [
    {
     "data": {
      "text/plain": [
       "(array([[0, 0, 3, 1, 9, 3, 1, 1],\n",
       "        [0, 1, 3, 3, 8, 3, 1, 1],\n",
       "        [0, 2, 3, 5, 7, 3, 1, 1],\n",
       "        [1, 0, 1, 1, 5, 0, 1, 1],\n",
       "        [1, 1, 1, 3, 4, 0, 1, 1],\n",
       "        [1, 2, 1, 5, 3, 0, 1, 1],\n",
       "        [2, 0, 4, 0, 5, 4, 1, 1],\n",
       "        [2, 1, 4, 2, 4, 4, 1, 1]]),\n",
       " [4, 1, 0, 0, 0],\n",
       " [True, False, False])"
      ]
     },
     "execution_count": 3,
     "metadata": {},
     "output_type": "execute_result"
    }
   ],
   "source": [
    "raw_X[0], raw_y[0], raw_partition[0]"
   ]
  },
  {
   "cell_type": "code",
   "execution_count": 4,
   "metadata": {},
   "outputs": [
    {
     "data": {
      "text/plain": [
       "((700, 112), (700, 5))"
      ]
     },
     "execution_count": 4,
     "metadata": {},
     "output_type": "execute_result"
    }
   ],
   "source": [
    "max_length = max([x.shape[1] for x in raw_X])\n",
    "def pad(x):\n",
    "    return np.pad(x, ((0,0), (0, max_length - x.shape[1])), mode='constant').flatten()\n",
    "X = np.array([pad(x) for x in raw_X])\n",
    "y = np.array(raw_y)\n",
    "partition = np.array(raw_partition)\n",
    "X.shape,y.shape"
   ]
  },
  {
   "cell_type": "code",
   "execution_count": 5,
   "metadata": {},
   "outputs": [
    {
     "data": {
      "text/plain": [
       "((420, 112), (140, 112), (140, 112), (420, 5), (140, 5), (140, 5))"
      ]
     },
     "execution_count": 5,
     "metadata": {},
     "output_type": "execute_result"
    }
   ],
   "source": [
    "# Split data across train/val/test partitions\n",
    "X_train, X_val, X_test = X[partition[:, 0]], X[partition[:, 1]], X[partition[:, 2]]\n",
    "y_train, y_val, y_test = y[partition[:, 0]], y[partition[:, 1]], y[partition[:, 2]]\n",
    "X_train.shape, X_val.shape, X_test.shape, y_train.shape, y_val.shape, y_test.shape"
   ]
  },
  {
   "cell_type": "code",
   "execution_count": 8,
   "metadata": {},
   "outputs": [
    {
     "ename": "ValueError",
     "evalue": "Classification metrics can't handle a mix of multiclass-multioutput and continuous-multioutput targets",
     "output_type": "error",
     "traceback": [
      "\u001b[0;31m---------------------------------------------------------------------------\u001b[0m",
      "\u001b[0;31mValueError\u001b[0m                                Traceback (most recent call last)",
      "Cell \u001b[0;32mIn[8], line 7\u001b[0m\n\u001b[1;32m      3\u001b[0m model\u001b[38;5;241m.\u001b[39mfit(X_train, y_train)\n\u001b[1;32m      5\u001b[0m y_pred \u001b[38;5;241m=\u001b[39m model\u001b[38;5;241m.\u001b[39mpredict(X_test)\n\u001b[0;32m----> 7\u001b[0m \u001b[38;5;28mprint\u001b[39m(\u001b[43mclassification_report\u001b[49m\u001b[43m(\u001b[49m\u001b[43my_test\u001b[49m\u001b[43m,\u001b[49m\u001b[43m \u001b[49m\u001b[43my_pred\u001b[49m\u001b[43m)\u001b[49m)\n",
      "File \u001b[0;32m~/.local/lib/python3.11/site-packages/sklearn/utils/_param_validation.py:213\u001b[0m, in \u001b[0;36mvalidate_params.<locals>.decorator.<locals>.wrapper\u001b[0;34m(*args, **kwargs)\u001b[0m\n\u001b[1;32m    207\u001b[0m \u001b[38;5;28;01mtry\u001b[39;00m:\n\u001b[1;32m    208\u001b[0m     \u001b[38;5;28;01mwith\u001b[39;00m config_context(\n\u001b[1;32m    209\u001b[0m         skip_parameter_validation\u001b[38;5;241m=\u001b[39m(\n\u001b[1;32m    210\u001b[0m             prefer_skip_nested_validation \u001b[38;5;129;01mor\u001b[39;00m global_skip_validation\n\u001b[1;32m    211\u001b[0m         )\n\u001b[1;32m    212\u001b[0m     ):\n\u001b[0;32m--> 213\u001b[0m         \u001b[38;5;28;01mreturn\u001b[39;00m \u001b[43mfunc\u001b[49m\u001b[43m(\u001b[49m\u001b[38;5;241;43m*\u001b[39;49m\u001b[43margs\u001b[49m\u001b[43m,\u001b[49m\u001b[43m \u001b[49m\u001b[38;5;241;43m*\u001b[39;49m\u001b[38;5;241;43m*\u001b[39;49m\u001b[43mkwargs\u001b[49m\u001b[43m)\u001b[49m\n\u001b[1;32m    214\u001b[0m \u001b[38;5;28;01mexcept\u001b[39;00m InvalidParameterError \u001b[38;5;28;01mas\u001b[39;00m e:\n\u001b[1;32m    215\u001b[0m     \u001b[38;5;66;03m# When the function is just a wrapper around an estimator, we allow\u001b[39;00m\n\u001b[1;32m    216\u001b[0m     \u001b[38;5;66;03m# the function to delegate validation to the estimator, but we replace\u001b[39;00m\n\u001b[1;32m    217\u001b[0m     \u001b[38;5;66;03m# the name of the estimator by the name of the function in the error\u001b[39;00m\n\u001b[1;32m    218\u001b[0m     \u001b[38;5;66;03m# message to avoid confusion.\u001b[39;00m\n\u001b[1;32m    219\u001b[0m     msg \u001b[38;5;241m=\u001b[39m re\u001b[38;5;241m.\u001b[39msub(\n\u001b[1;32m    220\u001b[0m         \u001b[38;5;124mr\u001b[39m\u001b[38;5;124m\"\u001b[39m\u001b[38;5;124mparameter of \u001b[39m\u001b[38;5;124m\\\u001b[39m\u001b[38;5;124mw+ must be\u001b[39m\u001b[38;5;124m\"\u001b[39m,\n\u001b[1;32m    221\u001b[0m         \u001b[38;5;124mf\u001b[39m\u001b[38;5;124m\"\u001b[39m\u001b[38;5;124mparameter of \u001b[39m\u001b[38;5;132;01m{\u001b[39;00mfunc\u001b[38;5;241m.\u001b[39m\u001b[38;5;18m__qualname__\u001b[39m\u001b[38;5;132;01m}\u001b[39;00m\u001b[38;5;124m must be\u001b[39m\u001b[38;5;124m\"\u001b[39m,\n\u001b[1;32m    222\u001b[0m         \u001b[38;5;28mstr\u001b[39m(e),\n\u001b[1;32m    223\u001b[0m     )\n",
      "File \u001b[0;32m~/.local/lib/python3.11/site-packages/sklearn/metrics/_classification.py:2626\u001b[0m, in \u001b[0;36mclassification_report\u001b[0;34m(y_true, y_pred, labels, target_names, sample_weight, digits, output_dict, zero_division)\u001b[0m\n\u001b[1;32m   2491\u001b[0m \u001b[38;5;129m@validate_params\u001b[39m(\n\u001b[1;32m   2492\u001b[0m     {\n\u001b[1;32m   2493\u001b[0m         \u001b[38;5;124m\"\u001b[39m\u001b[38;5;124my_true\u001b[39m\u001b[38;5;124m\"\u001b[39m: [\u001b[38;5;124m\"\u001b[39m\u001b[38;5;124marray-like\u001b[39m\u001b[38;5;124m\"\u001b[39m, \u001b[38;5;124m\"\u001b[39m\u001b[38;5;124msparse matrix\u001b[39m\u001b[38;5;124m\"\u001b[39m],\n\u001b[0;32m   (...)\u001b[0m\n\u001b[1;32m   2517\u001b[0m     zero_division\u001b[38;5;241m=\u001b[39m\u001b[38;5;124m\"\u001b[39m\u001b[38;5;124mwarn\u001b[39m\u001b[38;5;124m\"\u001b[39m,\n\u001b[1;32m   2518\u001b[0m ):\n\u001b[1;32m   2519\u001b[0m     \u001b[38;5;124;03m\"\"\"Build a text report showing the main classification metrics.\u001b[39;00m\n\u001b[1;32m   2520\u001b[0m \n\u001b[1;32m   2521\u001b[0m \u001b[38;5;124;03m    Read more in the :ref:`User Guide <classification_report>`.\u001b[39;00m\n\u001b[0;32m   (...)\u001b[0m\n\u001b[1;32m   2623\u001b[0m \u001b[38;5;124;03m    <BLANKLINE>\u001b[39;00m\n\u001b[1;32m   2624\u001b[0m \u001b[38;5;124;03m    \"\"\"\u001b[39;00m\n\u001b[0;32m-> 2626\u001b[0m     y_type, y_true, y_pred \u001b[38;5;241m=\u001b[39m \u001b[43m_check_targets\u001b[49m\u001b[43m(\u001b[49m\u001b[43my_true\u001b[49m\u001b[43m,\u001b[49m\u001b[43m \u001b[49m\u001b[43my_pred\u001b[49m\u001b[43m)\u001b[49m\n\u001b[1;32m   2628\u001b[0m     \u001b[38;5;28;01mif\u001b[39;00m labels \u001b[38;5;129;01mis\u001b[39;00m \u001b[38;5;28;01mNone\u001b[39;00m:\n\u001b[1;32m   2629\u001b[0m         labels \u001b[38;5;241m=\u001b[39m unique_labels(y_true, y_pred)\n",
      "File \u001b[0;32m~/.local/lib/python3.11/site-packages/sklearn/metrics/_classification.py:112\u001b[0m, in \u001b[0;36m_check_targets\u001b[0;34m(y_true, y_pred)\u001b[0m\n\u001b[1;32m    109\u001b[0m     y_type \u001b[38;5;241m=\u001b[39m {\u001b[38;5;124m\"\u001b[39m\u001b[38;5;124mmulticlass\u001b[39m\u001b[38;5;124m\"\u001b[39m}\n\u001b[1;32m    111\u001b[0m \u001b[38;5;28;01mif\u001b[39;00m \u001b[38;5;28mlen\u001b[39m(y_type) \u001b[38;5;241m>\u001b[39m \u001b[38;5;241m1\u001b[39m:\n\u001b[0;32m--> 112\u001b[0m     \u001b[38;5;28;01mraise\u001b[39;00m \u001b[38;5;167;01mValueError\u001b[39;00m(\n\u001b[1;32m    113\u001b[0m         \u001b[38;5;124m\"\u001b[39m\u001b[38;5;124mClassification metrics can\u001b[39m\u001b[38;5;124m'\u001b[39m\u001b[38;5;124mt handle a mix of \u001b[39m\u001b[38;5;132;01m{0}\u001b[39;00m\u001b[38;5;124m and \u001b[39m\u001b[38;5;132;01m{1}\u001b[39;00m\u001b[38;5;124m targets\u001b[39m\u001b[38;5;124m\"\u001b[39m\u001b[38;5;241m.\u001b[39mformat(\n\u001b[1;32m    114\u001b[0m             type_true, type_pred\n\u001b[1;32m    115\u001b[0m         )\n\u001b[1;32m    116\u001b[0m     )\n\u001b[1;32m    118\u001b[0m \u001b[38;5;66;03m# We can't have more than one value on y_type => The set is no more needed\u001b[39;00m\n\u001b[1;32m    119\u001b[0m y_type \u001b[38;5;241m=\u001b[39m y_type\u001b[38;5;241m.\u001b[39mpop()\n",
      "\u001b[0;31mValueError\u001b[0m: Classification metrics can't handle a mix of multiclass-multioutput and continuous-multioutput targets"
     ]
    }
   ],
   "source": [
    "base_model = RandomForestRegressor()\n",
    "model = MultiOutputRegressor(base_model)\n",
    "model.fit(X_train, y_train)\n",
    "\n",
    "y_pred = model.predict(X_test)\n",
    "\n",
    "print(classification_report(y_test, y_pred))"
   ]
  },
  {
   "cell_type": "code",
   "execution_count": 12,
   "metadata": {},
   "outputs": [
    {
     "name": "stdout",
     "output_type": "stream",
     "text": [
      "[[1.27 0.99 0.2  0.56 1.52]]\n",
      "[1, 1, 1, 1, 1]\n",
      "[[2.85 0.67 0.39 0.7  0.59]]\n",
      "[2, 1, 0, 2, 0]\n",
      "[[0.94 0.83 0.28 0.54 1.89]]\n",
      "[0, 1, 1, 1, 3]\n",
      "[[1.77 0.59 0.29 0.77 0.67]]\n",
      "[3, 0, 0, 2, 0]\n",
      "[[1.12 0.95 0.51 0.52 1.02]]\n",
      "[0, 0, 0, 0, 0]\n",
      "[[1.44 0.77 0.29 1.05 1.38]]\n",
      "[0, 0, 0, 1, 3]\n",
      "[[1.03 0.8  0.46 1.03 1.3 ]]\n",
      "[0, 2, 0, 0, 3]\n",
      "[[2.36 0.69 0.31 0.89 1.52]]\n",
      "[1, 2, 1, 0, 1]\n",
      "[[2.34 0.76 0.47 0.8  1.56]]\n",
      "[0, 0, 3, 0, 3]\n",
      "[[1.62 0.71 0.58 0.88 1.69]]\n",
      "[3, 0, 1, 2, 0]\n",
      "Final score: 10 out of 100\n"
     ]
    }
   ],
   "source": [
    "# Use model predictions\n",
    "\n",
    "path = '../RAVEN/new_data_0'\n",
    "subtype = 'distribute_four'\n",
    "items = sorted([x.split('.xml')[0] for x in glob.glob(os.path.join(path, subtype, '*.xml'))])\n",
    "correct = 0\n",
    "debug=False\n",
    "if debug:\n",
    "    items=['../RAVEN/new_data_0/distribute_four/RAVEN_89_test']\n",
    "for item in items:\n",
    "    if 'test' not in item:\n",
    "        continue\n",
    "    embeddings, embedding_names, answer = load_question(item, display=False, debug=False)\n",
    "    if any(len(embedding) != len(embeddings[0]) for embedding in embeddings):\n",
    "        print(\"Error!\", item, \" has embeddings of different lengths\")\n",
    "        break\n",
    "    x = pad(np.array(embeddings[:8])).reshape(1, -1)\n",
    "    y_pred = model.predict(x)\n",
    "    # y_prob = model.predict_proba(x)\n",
    "    # y_prob_formatted = [y_prob_i[0][1] for y_prob_i in y_prob]\n",
    "    # print({rule.__name__: prob for rule, prob in zip(rule_order, y_prob_formatted)})\n",
    "    guess, _, y_entry = predict(embeddings,embedding_names,debug=False)\n",
    "    print(y_pred)\n",
    "    print(y_entry)\n",
    "    if guess == answer:\n",
    "        correct += 1\n",
    "        if correct == 10:\n",
    "            break\n",
    "    else:\n",
    "        if debug:\n",
    "            grid = [[0, 1, 2], [3, 4, 5], [6, 7, None]]\n",
    "            print(\"\\n\".join([str([embeddings[col] if col is not None else None for col in row ]) for row in grid]))\n",
    "            print(\"Answer\", answer, embeddings[8+answer], \"Guess\", guess, embeddings[8+guess] if guess is not None else None)\n",
    "        print(\"WRONG\",item, \"Wrong guess\", guess, \"Correct answer\", answer)\n",
    "print(\"Final score:\", correct, \"out of\", len(items))"
   ]
  }
 ],
 "metadata": {
  "kernelspec": {
   "display_name": "Python 3",
   "language": "python",
   "name": "python3"
  },
  "language_info": {
   "codemirror_mode": {
    "name": "ipython",
    "version": 3
   },
   "file_extension": ".py",
   "mimetype": "text/x-python",
   "name": "python",
   "nbconvert_exporter": "python",
   "pygments_lexer": "ipython3",
   "version": "3.11.0"
  }
 },
 "nbformat": 4,
 "nbformat_minor": 2
}
