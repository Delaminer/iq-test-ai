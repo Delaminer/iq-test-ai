{
 "cells": [
  {
   "cell_type": "code",
   "execution_count": 2,
   "metadata": {},
   "outputs": [],
   "source": [
    "%load_ext autoreload\n",
    "%autoreload 2\n",
    "import numpy as np\n",
    "import matplotlib.pyplot as plt\n",
    "import glob, os, sys, re, math, random\n",
    "import xml.etree.ElementTree as ET\n",
    "from rules import *\n",
    "from raven_data import load_question, display_problem"
   ]
  },
  {
   "cell_type": "code",
   "execution_count": 40,
   "metadata": {},
   "outputs": [],
   "source": [
    "rule_order = [constant, progression, arithmetic, distribute_three, noise]\n",
    "def predict(embeddings, embedding_names, debug=False):\n",
    "    counts = [0 for _ in range(5)]\n",
    "    grid = [[0, 1, 2], [3, 4, 5], [6, 7, None]]\n",
    "    grid = [[embeddings[col_index] if col_index is not None else None for col_index in row] for row in grid]\n",
    "    if debug:\n",
    "        print(\"\\n\".join([str(row) for row in grid]))\n",
    "    final_rules = {}\n",
    "    for attribute in range(2, len(embeddings[0])): # shape, size, color, angle\n",
    "        for i, rule in enumerate(rule_order):\n",
    "            if rule(attribute, is_bitwise=('BW' in embedding_names[attribute]))([grid[0], grid[1]]):\n",
    "                final_rules[attribute] = rule\n",
    "                counts[i] += 1\n",
    "                if debug:\n",
    "                    print(f'Attribute {attribute} {embedding_names[attribute]} follows rule {rule.__name__}')\n",
    "                break\n",
    "    # Guess which item is correct\n",
    "    my_guess = None\n",
    "    scores = [0 for _ in range(8)]\n",
    "    for guess in range(8):\n",
    "        guess_index = 8 + guess\n",
    "        guess_embedding = embeddings[guess_index]\n",
    "        grid[2][2] = guess_embedding\n",
    "        flag = True\n",
    "        for rule_i, (attribute, rule) in enumerate(final_rules.items()):\n",
    "            if not rule(attribute, is_bitwise=('BW' in embedding_names[attribute]))(grid):\n",
    "                if flag and debug:\n",
    "                    print(f'Guess {guess} failed rule {rule.__name__} for attribute {attribute} {embedding_names[attribute]}')\n",
    "                flag = False\n",
    "            else:\n",
    "                scores[guess] += 1\n",
    "        if flag:\n",
    "            my_guess = guess\n",
    "            if debug:\n",
    "                print(f'My guess is {guess} with embedding {guess_embedding}')\n",
    "    # print(\"Correct answer is\", answer, \"which is\", embeddings[8 + answer])\n",
    "    if my_guess is None:\n",
    "        my_guess = np.argmax(scores)\n",
    "        if debug:\n",
    "            print(\"No answer found, guessing\", my_guess)\n",
    "    if debug:\n",
    "        print(\"Scores\", scores)\n",
    "    return my_guess, counts"
   ]
  },
  {
   "cell_type": "code",
   "execution_count": 43,
   "metadata": {},
   "outputs": [
    {
     "name": "stdout",
     "output_type": "stream",
     "text": [
      "Final score: 700 out of 700\n",
      "Names of rules: ['constant', 'progression', 'arithmetic', 'distribute_three', 'noise']\n",
      "Counts [3694, 937, 546, 1003, 420]\n",
      "Percentages [0.5596969696969697, 0.14196969696969697, 0.08272727272727273, 0.15196969696969698, 0.06363636363636363]\n"
     ]
    }
   ],
   "source": [
    "# Generalized components v1: 3.5s / 63.6s\n",
    "path = '../RAVEN/new_data_0'\n",
    "subtype = '*'\n",
    "items = sorted([x.split('.xml')[0] for x in glob.glob(os.path.join(path, subtype, '*.xml'))])\n",
    "# print(items)\n",
    "correct = 0\n",
    "debug=False\n",
    "global_counts = [0 for _ in range(5)]\n",
    "if debug:\n",
    "    items=['../RAVEN/new_data_1/center_single/RAVEN_551_train']\n",
    "for index, item in enumerate(items):\n",
    "    embeddings, embedding_names, answer = load_question(item, display=debug, debug=False)\n",
    "    if any(len(embedding) != len(embeddings[0]) for embedding in embeddings):\n",
    "        print(\"Error!\", item, \" has embeddings of different lengths\")\n",
    "        break\n",
    "    guess, counts = predict(embeddings,embedding_names,debug=debug)\n",
    "    global_counts = [global_counts[i] + counts[i] for i in range(5)]\n",
    "    if guess == answer:\n",
    "        correct += 1\n",
    "    else:\n",
    "        if debug:\n",
    "            grid = [[0, 1, 2], [3, 4, 5], [6, 7, None]]\n",
    "            print(\"\\n\".join([str([embeddings[col] if col is not None else None for col in row ]) for row in grid]))\n",
    "            print(\"Answer\", answer, embeddings[8+answer], \"Guess\", guess, embeddings[8+guess] if guess is not None else None)\n",
    "        print(\"WRONG\",item, \"Wrong guess\", guess, \"Correct answer\", answer)\n",
    "        # break\n",
    "print(\"Final score:\", correct, \"out of\", len(items))\n",
    "print(\"Names of rules:\", [rule.__name__ for rule in rule_order])\n",
    "print(\"Counts\", global_counts)\n",
    "print(\"Percentages\", [global_counts[i]/sum(global_counts) for i in range(5)])"
   ]
  },
  {
   "cell_type": "code",
   "execution_count": 5,
   "metadata": {},
   "outputs": [
    {
     "name": "stdout",
     "output_type": "stream",
     "text": [
      "Unique values\n",
      "Row [0, 1, 2]\n",
      "Col [0, 1, 2]\n",
      "Type [1, 3, 5]\n",
      "Size [0, 1, 2, 4, 5]\n",
      "Color [1, 2, 3, 4, 5, 6, 7]\n",
      "Angle [1, 2, 6]\n",
      "BWPosition [12, 44, 88, 176, 186, 207, 233, 268, 277, 319, 359, 372, 414]\n",
      "Number [2, 3, 4, 5, 6, 7]\n"
     ]
    }
   ],
   "source": [
    "from collections import defaultdict\n",
    "unique_value_count = defaultdict(lambda: defaultdict(int))\n",
    "# unique_value_count = [defaultdict(int) for _ in range(20)]\n",
    "largest = []\n",
    "for item in items:\n",
    "    embeddings, embedding_names, answer = load_question(item, display=False)\n",
    "    for embedding in embeddings:\n",
    "        for name, value in zip(embedding_names, embedding):\n",
    "            if value is not None:\n",
    "                unique_value_count[name][value] += 1\n",
    "    if len(embedding_names) > len(largest):\n",
    "        largest = embedding_names\n",
    "print(\"Unique values\")\n",
    "for name, values in unique_value_count.items():\n",
    "    print(name, sorted(list(values.keys())))"
   ]
  }
 ],
 "metadata": {
  "kernelspec": {
   "display_name": "Python 3",
   "language": "python",
   "name": "python3"
  },
  "language_info": {
   "codemirror_mode": {
    "name": "ipython",
    "version": 3
   },
   "file_extension": ".py",
   "mimetype": "text/x-python",
   "name": "python",
   "nbconvert_exporter": "python",
   "pygments_lexer": "ipython3",
   "version": "3.11.0rc1"
  }
 },
 "nbformat": 4,
 "nbformat_minor": 2
}
